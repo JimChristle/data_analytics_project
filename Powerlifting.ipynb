{
 "cells": [
  {
   "cell_type": "code",
   "execution_count": 2,
   "id": "c0deb49a",
   "metadata": {},
   "outputs": [
    {
     "name": "stderr",
     "output_type": "stream",
     "text": [
      "C:\\Users\\Jim\\anacondaforjupiter\\lib\\site-packages\\IPython\\core\\interactiveshell.py:3165: DtypeWarning: Columns (35) have mixed types.Specify dtype option on import or set low_memory=False.\n",
      "  has_raised = await self.run_ast_nodes(code_ast.body, cell_name,\n"
     ]
    },
    {
     "name": "stdout",
     "output_type": "stream",
     "text": [
      "                       Name Sex Event Equipment   Age AgeClass   Division  \\\n",
      "0              Abbie Murphy   F   SBD     Wraps  29.0    24-34       F-OR   \n",
      "1               Abbie Tuong   F   SBD     Wraps  29.0    24-34       F-OR   \n",
      "2            Ainslee Hooper   F     B       Raw  40.0    40-44       F-OR   \n",
      "3           Amy Moldenhauer   F   SBD     Wraps  23.0    20-23       F-OR   \n",
      "4              Andrea Rowan   F   SBD     Wraps  45.0    45-49       F-OR   \n",
      "...                     ...  ..   ...       ...   ...      ...        ...   \n",
      "1423349      Marian Cafalik   M   SBD       Raw  60.5    60-64  Masters 2   \n",
      "1423350  Marian Piwowarczyk   M   SBD       Raw  55.5    55-59  Masters 2   \n",
      "1423351  Andrzej Bryniarski   M   SBD       Raw  62.5    60-64  Masters 2   \n",
      "1423352  Stanisław Goroczko   M   SBD       Raw  63.5    60-64  Masters 2   \n",
      "1423353            Jan Sowa   M   SBD       Raw  70.5    70-74  Masters 2   \n",
      "\n",
      "         BodyweightKg WeightClassKg  Squat1Kg  ...  McCulloch  Glossbrenner  \\\n",
      "0                59.8            60      80.0  ...     324.16        286.42   \n",
      "1                58.5            60     100.0  ...     378.07        334.16   \n",
      "2                55.4            56       NaN  ...      38.56         34.12   \n",
      "3                60.0            60    -105.0  ...     345.61        305.37   \n",
      "4               104.0           110     120.0  ...     338.91        274.56   \n",
      "...               ...           ...       ...  ...        ...           ...   \n",
      "1423349          73.5            74     160.0  ...     438.27        316.52   \n",
      "1423350          63.5            66      90.0  ...     372.60        295.66   \n",
      "1423351          94.4           105     140.0  ...     382.36        264.22   \n",
      "1423352          80.8            83    -165.0  ...        NaN           NaN   \n",
      "1423353          82.0            83    -115.0  ...        NaN           NaN   \n",
      "\n",
      "         IPFPoints  Tested  Country  Federation        Date  MeetCountry  \\\n",
      "0           511.15     NaN      NaN     GPC-AUS  2018-10-27    Australia   \n",
      "1           595.65     NaN      NaN     GPC-AUS  2018-10-27    Australia   \n",
      "2           313.97     NaN      NaN     GPC-AUS  2018-10-27    Australia   \n",
      "3           547.04     NaN      NaN     GPC-AUS  2018-10-27    Australia   \n",
      "4           550.08     NaN      NaN     GPC-AUS  2018-10-27    Australia   \n",
      "...            ...     ...      ...         ...         ...          ...   \n",
      "1423349     469.67     Yes      NaN     PZKFiTS  2017-04-01       Poland   \n",
      "1423350     423.03     Yes   Poland     PZKFiTS  2017-04-01       Poland   \n",
      "1423351     378.84     Yes      NaN     PZKFiTS  2017-04-01       Poland   \n",
      "1423352        NaN     Yes      NaN     PZKFiTS  2017-04-01       Poland   \n",
      "1423353        NaN     Yes      NaN     PZKFiTS  2017-04-01       Poland   \n",
      "\n",
      "         MeetState                         MeetName  \n",
      "0              VIC                    Melbourne Cup  \n",
      "1              VIC                    Melbourne Cup  \n",
      "2              VIC                    Melbourne Cup  \n",
      "3              VIC                    Melbourne Cup  \n",
      "4              VIC                    Melbourne Cup  \n",
      "...            ...                              ...  \n",
      "1423349        NaN  Polish Classic Powerlifting Cup  \n",
      "1423350        NaN  Polish Classic Powerlifting Cup  \n",
      "1423351        NaN  Polish Classic Powerlifting Cup  \n",
      "1423352        NaN  Polish Classic Powerlifting Cup  \n",
      "1423353        NaN  Polish Classic Powerlifting Cup  \n",
      "\n",
      "[1423354 rows x 37 columns]\n"
     ]
    }
   ],
   "source": [
    "import pandas as pd\n",
    "import os\n",
    "import numpy as np\n",
    "import matplotlib.pyplot as plt\n",
    "os.getcwd()\n",
    "strength= pd.read_csv(\"C:\\\\Users\\\\Jim/Downloads/openpowerlifting.csv\")\n",
    "\n",
    "print(strength)"
   ]
  },
  {
   "cell_type": "code",
   "execution_count": 7,
   "id": "94d5af12",
   "metadata": {},
   "outputs": [
    {
     "name": "stdout",
     "output_type": "stream",
     "text": [
      "<class 'pandas.core.frame.DataFrame'>\n",
      "RangeIndex: 1423354 entries, 0 to 1423353\n",
      "Data columns (total 37 columns):\n",
      " #   Column           Non-Null Count    Dtype  \n",
      "---  ------           --------------    -----  \n",
      " 0   Name             1423354 non-null  object \n",
      " 1   Sex              1423354 non-null  object \n",
      " 2   Event            1423354 non-null  object \n",
      " 3   Equipment        1423354 non-null  object \n",
      " 4   Age              757527 non-null   float64\n",
      " 5   AgeClass         786800 non-null   object \n",
      " 6   Division         1415176 non-null  object \n",
      " 7   BodyweightKg     1406622 non-null  float64\n",
      " 8   WeightClassKg    1410042 non-null  object \n",
      " 9   Squat1Kg         337580 non-null   float64\n",
      " 10  Squat2Kg         333349 non-null   float64\n",
      " 11  Squat3Kg         323842 non-null   float64\n",
      " 12  Squat4Kg         3696 non-null     float64\n",
      " 13  Best3SquatKg     1031450 non-null  float64\n",
      " 14  Bench1Kg         499779 non-null   float64\n",
      " 15  Bench2Kg         493486 non-null   float64\n",
      " 16  Bench3Kg         478485 non-null   float64\n",
      " 17  Bench4Kg         9505 non-null     float64\n",
      " 18  Best3BenchKg     1276181 non-null  float64\n",
      " 19  Deadlift1Kg      363544 non-null   float64\n",
      " 20  Deadlift2Kg      356023 non-null   float64\n",
      " 21  Deadlift3Kg      339947 non-null   float64\n",
      " 22  Deadlift4Kg      9246 non-null     float64\n",
      " 23  Best3DeadliftKg  1081808 non-null  float64\n",
      " 24  TotalKg          1313184 non-null  float64\n",
      " 25  Place            1423354 non-null  object \n",
      " 26  Wilks            1304407 non-null  float64\n",
      " 27  McCulloch        1304254 non-null  float64\n",
      " 28  Glossbrenner     1304407 non-null  float64\n",
      " 29  IPFPoints        1273286 non-null  float64\n",
      " 30  Tested           1093892 non-null  object \n",
      " 31  Country          388884 non-null   object \n",
      " 32  Federation       1423354 non-null  object \n",
      " 33  Date             1423354 non-null  object \n",
      " 34  MeetCountry      1423354 non-null  object \n",
      " 35  MeetState        941545 non-null   object \n",
      " 36  MeetName         1423354 non-null  object \n",
      "dtypes: float64(22), object(15)\n",
      "memory usage: 401.8+ MB\n",
      "None\n"
     ]
    }
   ],
   "source": [
    "print(strength.info())"
   ]
  },
  {
   "cell_type": "code",
   "execution_count": 3,
   "id": "06a812ae",
   "metadata": {},
   "outputs": [
    {
     "name": "stdout",
     "output_type": "stream",
     "text": [
      "0          290.0\n",
      "1          332.5\n",
      "2           32.5\n",
      "3          310.0\n",
      "4          390.0\n",
      "           ...  \n",
      "1423349    452.5\n",
      "1423350    375.0\n",
      "1423351    440.0\n",
      "1423352      NaN\n",
      "1423353      NaN\n",
      "Name: TotalKg, Length: 1423354, dtype: float64\n"
     ]
    }
   ],
   "source": [
    "print(strength['TotalKg'])"
   ]
  },
  {
   "cell_type": "code",
   "execution_count": 2,
   "id": "0f4d1859",
   "metadata": {},
   "outputs": [
    {
     "ename": "NameError",
     "evalue": "name 'strength' is not defined",
     "output_type": "error",
     "traceback": [
      "\u001b[1;31m---------------------------------------------------------------------------\u001b[0m",
      "\u001b[1;31mNameError\u001b[0m                                 Traceback (most recent call last)",
      "\u001b[1;32m<ipython-input-2-110bb6f14b8e>\u001b[0m in \u001b[0;36m<module>\u001b[1;34m\u001b[0m\n\u001b[0;32m      6\u001b[0m \u001b[1;33m\u001b[0m\u001b[0m\n\u001b[0;32m      7\u001b[0m \u001b[1;31m# Plot MLY-PRCP-NORMAL from seattle_weather against the MONTH\u001b[0m\u001b[1;33m\u001b[0m\u001b[1;33m\u001b[0m\u001b[1;33m\u001b[0m\u001b[0m\n\u001b[1;32m----> 8\u001b[1;33m \u001b[0max\u001b[0m\u001b[1;33m.\u001b[0m\u001b[0mplot\u001b[0m\u001b[1;33m(\u001b[0m\u001b[0mstrength\u001b[0m\u001b[1;33m[\u001b[0m\u001b[1;34m'Age'\u001b[0m\u001b[1;33m]\u001b[0m\u001b[1;33m.\u001b[0m\u001b[0mhead\u001b[0m\u001b[1;33m(\u001b[0m\u001b[1;33m)\u001b[0m\u001b[1;33m,\u001b[0m \u001b[0mstrength\u001b[0m\u001b[1;33m[\u001b[0m\u001b[1;34m'TotalKg'\u001b[0m\u001b[1;33m]\u001b[0m\u001b[1;33m.\u001b[0m\u001b[0mhead\u001b[0m\u001b[1;33m(\u001b[0m\u001b[1;33m)\u001b[0m\u001b[1;33m)\u001b[0m\u001b[1;33m\u001b[0m\u001b[1;33m\u001b[0m\u001b[0m\n\u001b[0m\u001b[0;32m      9\u001b[0m \u001b[1;33m\u001b[0m\u001b[0m\n\u001b[0;32m     10\u001b[0m \u001b[1;33m\u001b[0m\u001b[0m\n",
      "\u001b[1;31mNameError\u001b[0m: name 'strength' is not defined"
     ]
    },
    {
     "data": {
      "image/png": "[encoded data removed]",
      "text/plain": [
       "<Figure size 432x288 with 1 Axes>"
      ]
     },
     "metadata": {
      "needs_background": "light"
     },
     "output_type": "display_data"
    }
   ],
   "source": [
    "# Import the matplotlib.pyplot submodule and name it plt\n",
    "import matplotlib.pyplot as plt\n",
    "import numpy as np\n",
    "# Create a Figure and an Axes with plt.subplots\n",
    "fig, ax = plt.subplots()\n",
    "\n",
    "# Plot MLY-PRCP-NORMAL from seattle_weather against the MONTH\n",
    "ax.plot(strength['Age'].head(), strength['TotalKg'].head())\n",
    "\n",
    "\n",
    "\n",
    "# Call the show function\n",
    "plt.show()"
   ]
  },
  {
   "cell_type": "code",
   "execution_count": 11,
   "id": "c9057ac6",
   "metadata": {},
   "outputs": [
    {
     "ename": "AttributeError",
     "evalue": "'Series' object has no attribute 'sort'",
     "output_type": "error",
     "traceback": [
      "\u001b[1;31m---------------------------------------------------------------------------\u001b[0m",
      "\u001b[1;31mAttributeError\u001b[0m                            Traceback (most recent call last)",
      "\u001b[1;32m<ipython-input-11-0922e6552d32>\u001b[0m in \u001b[0;36m<module>\u001b[1;34m\u001b[0m\n\u001b[1;32m----> 1\u001b[1;33m \u001b[0mstrength\u001b[0m\u001b[1;33m[\u001b[0m\u001b[1;34m'TotalKg'\u001b[0m\u001b[1;33m]\u001b[0m\u001b[1;33m.\u001b[0m\u001b[0msort\u001b[0m\u001b[1;33m(\u001b[0m\u001b[1;33m)\u001b[0m\u001b[1;33m\u001b[0m\u001b[1;33m\u001b[0m\u001b[0m\n\u001b[0m\u001b[0;32m      2\u001b[0m \u001b[1;33m\u001b[0m\u001b[0m\n\u001b[0;32m      3\u001b[0m \u001b[0mplt\u001b[0m\u001b[1;33m.\u001b[0m\u001b[0mplot\u001b[0m\u001b[1;33m(\u001b[0m\u001b[0mstrength\u001b[0m\u001b[1;33m[\u001b[0m\u001b[1;34m'TotalKg'\u001b[0m\u001b[1;33m]\u001b[0m\u001b[1;33m.\u001b[0m\u001b[0mhead\u001b[0m\u001b[1;33m(\u001b[0m\u001b[1;33m)\u001b[0m\u001b[1;33m,\u001b[0m \u001b[0mstrength\u001b[0m\u001b[1;33m[\u001b[0m\u001b[1;34m'Age'\u001b[0m\u001b[1;33m]\u001b[0m\u001b[1;33m.\u001b[0m\u001b[0mhead\u001b[0m\u001b[1;33m(\u001b[0m\u001b[1;33m)\u001b[0m\u001b[1;33m)\u001b[0m\u001b[1;33m\u001b[0m\u001b[1;33m\u001b[0m\u001b[0m\n\u001b[0;32m      4\u001b[0m \u001b[0mplt\u001b[0m\u001b[1;33m.\u001b[0m\u001b[0mshow\u001b[0m\u001b[1;33m(\u001b[0m\u001b[1;33m)\u001b[0m\u001b[1;33m\u001b[0m\u001b[1;33m\u001b[0m\u001b[0m\n",
      "\u001b[1;32m~\\anacondaforjupiter\\lib\\site-packages\\pandas\\core\\generic.py\u001b[0m in \u001b[0;36m__getattr__\u001b[1;34m(self, name)\u001b[0m\n\u001b[0;32m   5463\u001b[0m             \u001b[1;32mif\u001b[0m \u001b[0mself\u001b[0m\u001b[1;33m.\u001b[0m\u001b[0m_info_axis\u001b[0m\u001b[1;33m.\u001b[0m\u001b[0m_can_hold_identifiers_and_holds_name\u001b[0m\u001b[1;33m(\u001b[0m\u001b[0mname\u001b[0m\u001b[1;33m)\u001b[0m\u001b[1;33m:\u001b[0m\u001b[1;33m\u001b[0m\u001b[1;33m\u001b[0m\u001b[0m\n\u001b[0;32m   5464\u001b[0m                 \u001b[1;32mreturn\u001b[0m \u001b[0mself\u001b[0m\u001b[1;33m[\u001b[0m\u001b[0mname\u001b[0m\u001b[1;33m]\u001b[0m\u001b[1;33m\u001b[0m\u001b[1;33m\u001b[0m\u001b[0m\n\u001b[1;32m-> 5465\u001b[1;33m             \u001b[1;32mreturn\u001b[0m \u001b[0mobject\u001b[0m\u001b[1;33m.\u001b[0m\u001b[0m__getattribute__\u001b[0m\u001b[1;33m(\u001b[0m\u001b[0mself\u001b[0m\u001b[1;33m,\u001b[0m \u001b[0mname\u001b[0m\u001b[1;33m)\u001b[0m\u001b[1;33m\u001b[0m\u001b[1;33m\u001b[0m\u001b[0m\n\u001b[0m\u001b[0;32m   5466\u001b[0m \u001b[1;33m\u001b[0m\u001b[0m\n\u001b[0;32m   5467\u001b[0m     \u001b[1;32mdef\u001b[0m \u001b[0m__setattr__\u001b[0m\u001b[1;33m(\u001b[0m\u001b[0mself\u001b[0m\u001b[1;33m,\u001b[0m \u001b[0mname\u001b[0m\u001b[1;33m:\u001b[0m \u001b[0mstr\u001b[0m\u001b[1;33m,\u001b[0m \u001b[0mvalue\u001b[0m\u001b[1;33m)\u001b[0m \u001b[1;33m->\u001b[0m \u001b[1;32mNone\u001b[0m\u001b[1;33m:\u001b[0m\u001b[1;33m\u001b[0m\u001b[1;33m\u001b[0m\u001b[0m\n",
      "\u001b[1;31mAttributeError\u001b[0m: 'Series' object has no attribute 'sort'"
     ]
    }
   ],
   "source": [
    "\n",
    "\n",
    "plt.plot(strength['TotalKg'].head(), strength['Age'].head())\n",
    "plt.show()"
   ]
  },
  {
   "cell_type": "code",
   "execution_count": 13,
   "id": "406a1b0a",
   "metadata": {},
   "outputs": [
    {
     "ename": "AttributeError",
     "evalue": "'Series' object has no attribute 'sort'",
     "output_type": "error",
     "traceback": [
      "\u001b[1;31m---------------------------------------------------------------------------\u001b[0m",
      "\u001b[1;31mAttributeError\u001b[0m                            Traceback (most recent call last)",
      "\u001b[1;32m<ipython-input-13-f495599f772c>\u001b[0m in \u001b[0;36m<module>\u001b[1;34m\u001b[0m\n\u001b[1;32m----> 1\u001b[1;33m \u001b[1;33m(\u001b[0m\u001b[0mstrength\u001b[0m\u001b[1;33m[\u001b[0m\u001b[1;34m'TotalKg'\u001b[0m\u001b[1;33m]\u001b[0m\u001b[1;33m)\u001b[0m\u001b[1;33m.\u001b[0m\u001b[0msort\u001b[0m\u001b[1;33m(\u001b[0m\u001b[1;33m)\u001b[0m\u001b[1;33m\u001b[0m\u001b[1;33m\u001b[0m\u001b[0m\n\u001b[0m\u001b[0;32m      2\u001b[0m \u001b[1;33m(\u001b[0m\u001b[0mstrength\u001b[0m\u001b[1;33m[\u001b[0m\u001b[1;34m'Age'\u001b[0m\u001b[1;33m]\u001b[0m\u001b[1;33m)\u001b[0m\u001b[1;33m.\u001b[0m\u001b[0msort\u001b[0m\u001b[1;33m(\u001b[0m\u001b[1;33m)\u001b[0m\u001b[1;33m\u001b[0m\u001b[1;33m\u001b[0m\u001b[0m\n",
      "\u001b[1;32m~\\anacondaforjupiter\\lib\\site-packages\\pandas\\core\\generic.py\u001b[0m in \u001b[0;36m__getattr__\u001b[1;34m(self, name)\u001b[0m\n\u001b[0;32m   5463\u001b[0m             \u001b[1;32mif\u001b[0m \u001b[0mself\u001b[0m\u001b[1;33m.\u001b[0m\u001b[0m_info_axis\u001b[0m\u001b[1;33m.\u001b[0m\u001b[0m_can_hold_identifiers_and_holds_name\u001b[0m\u001b[1;33m(\u001b[0m\u001b[0mname\u001b[0m\u001b[1;33m)\u001b[0m\u001b[1;33m:\u001b[0m\u001b[1;33m\u001b[0m\u001b[1;33m\u001b[0m\u001b[0m\n\u001b[0;32m   5464\u001b[0m                 \u001b[1;32mreturn\u001b[0m \u001b[0mself\u001b[0m\u001b[1;33m[\u001b[0m\u001b[0mname\u001b[0m\u001b[1;33m]\u001b[0m\u001b[1;33m\u001b[0m\u001b[1;33m\u001b[0m\u001b[0m\n\u001b[1;32m-> 5465\u001b[1;33m             \u001b[1;32mreturn\u001b[0m \u001b[0mobject\u001b[0m\u001b[1;33m.\u001b[0m\u001b[0m__getattribute__\u001b[0m\u001b[1;33m(\u001b[0m\u001b[0mself\u001b[0m\u001b[1;33m,\u001b[0m \u001b[0mname\u001b[0m\u001b[1;33m)\u001b[0m\u001b[1;33m\u001b[0m\u001b[1;33m\u001b[0m\u001b[0m\n\u001b[0m\u001b[0;32m   5466\u001b[0m \u001b[1;33m\u001b[0m\u001b[0m\n\u001b[0;32m   5467\u001b[0m     \u001b[1;32mdef\u001b[0m \u001b[0m__setattr__\u001b[0m\u001b[1;33m(\u001b[0m\u001b[0mself\u001b[0m\u001b[1;33m,\u001b[0m \u001b[0mname\u001b[0m\u001b[1;33m:\u001b[0m \u001b[0mstr\u001b[0m\u001b[1;33m,\u001b[0m \u001b[0mvalue\u001b[0m\u001b[1;33m)\u001b[0m \u001b[1;33m->\u001b[0m \u001b[1;32mNone\u001b[0m\u001b[1;33m:\u001b[0m\u001b[1;33m\u001b[0m\u001b[1;33m\u001b[0m\u001b[0m\n",
      "\u001b[1;31mAttributeError\u001b[0m: 'Series' object has no attribute 'sort'"
     ]
    }
   ],
   "source": [
    "(strength['TotalKg']).sort()\n",
    "(strength['Age']).sort()\n"
   ]
  },
  {
   "cell_type": "code",
   "execution_count": 1,
   "id": "fd0e4ed2",
   "metadata": {},
   "outputs": [
    {
     "name": "stdout",
     "output_type": "stream",
     "text": [
      "[3, 5, 27, 46]\n"
     ]
    }
   ],
   "source": [
    "silly_list=[5,3,46,27]\n",
    "silly_list.sort()\n",
    "print(silly_list)"
   ]
  },
  {
   "cell_type": "code",
   "execution_count": 4,
   "id": "4bdb1d14",
   "metadata": {},
   "outputs": [],
   "source": [
    "total=np.array(strength['TotalKg'])\n",
    "age=np.array(strength['Age'])"
   ]
  },
  {
   "cell_type": "code",
   "execution_count": 13,
   "id": "2f5a6aa1",
   "metadata": {},
   "outputs": [],
   "source": [
    "total_clean=total[~np.isnan(total)] ; age_clean=age[~np.isnan(age)]"
   ]
  },
  {
   "cell_type": "code",
   "execution_count": 8,
   "id": "089c3dec",
   "metadata": {},
   "outputs": [
    {
     "name": "stdout",
     "output_type": "stream",
     "text": [
      "[2.5  5.   7.48 ...  nan  nan  nan]\n"
     ]
    }
   ],
   "source": [
    "print(total)"
   ]
  },
  {
   "cell_type": "code",
   "execution_count": 9,
   "id": "e2d0379b",
   "metadata": {},
   "outputs": [
    {
     "name": "stdout",
     "output_type": "stream",
     "text": [
      "[ 0.  0.  0. ... nan nan nan]\n"
     ]
    }
   ],
   "source": [
    "print(age)"
   ]
  },
  {
   "cell_type": "code",
   "execution_count": 15,
   "id": "e0f93063",
   "metadata": {},
   "outputs": [
    {
     "data": {
      "image/png": "[encoded data removed]",
      "text/plain": [
       "<Figure size 432x288 with 1 Axes>"
      ]
     },
     "metadata": {
      "needs_background": "light"
     },
     "output_type": "display_data"
    }
   ],
   "source": [
    "plt.plot(age, total)\n",
    "plt.show()"
   ]
  },
  {
   "cell_type": "code",
   "execution_count": 20,
   "id": "4e4c698c",
   "metadata": {},
   "outputs": [
    {
     "data": {
      "image/png": "[encoded data removed]",
      "text/plain": [
       "<Figure size 432x288 with 1 Axes>"
      ]
     },
     "metadata": {
      "needs_background": "light"
     },
     "output_type": "display_data"
    },
    {
     "data": {
      "text/plain": [
       "<Figure size 432x288 with 0 Axes>"
      ]
     },
     "metadata": {},
     "output_type": "display_data"
    }
   ],
   "source": [
    "plt.hist(age, bins=20)\n",
    "plt.show() ; plt.clf()"
   ]
  },
  {
   "cell_type": "code",
   "execution_count": 24,
   "id": "ee673a75",
   "metadata": {},
   "outputs": [
    {
     "data": {
      "image/png": "[encoded data removed]",
      "text/plain": [
       "<Figure size 432x288 with 1 Axes>"
      ]
     },
     "metadata": {
      "needs_background": "light"
     },
     "output_type": "display_data"
    },
    {
     "data": {
      "text/plain": [
       "<Figure size 432x288 with 0 Axes>"
      ]
     },
     "metadata": {},
     "output_type": "display_data"
    }
   ],
   "source": [
    "plt.hist(total, bins=100)\n",
    "plt.show()\n",
    "plt.clf()"
   ]
  },
  {
   "cell_type": "code",
   "execution_count": 19,
   "id": "2b333208",
   "metadata": {},
   "outputs": [
    {
     "data": {
      "image/png": "[encoded data removed]",
      "text/plain": [
       "<Figure size 432x288 with 1 Axes>"
      ]
     },
     "metadata": {
      "needs_background": "light"
     },
     "output_type": "display_data"
    }
   ],
   "source": [
    "plt.scatter(age, total)\n",
    "plt.show()"
   ]
  },
  {
   "cell_type": "code",
   "execution_count": 25,
   "id": "bf9abda4",
   "metadata": {},
   "outputs": [
    {
     "data": {
      "text/plain": [
       "array([False, False, False, ..., False, False, False])"
      ]
     },
     "execution_count": 25,
     "metadata": {},
     "output_type": "execute_result"
    }
   ],
   "source": [
    "age == total"
   ]
  },
  {
   "cell_type": "code",
   "execution_count": null,
   "id": "b5f29de4",
   "metadata": {},
   "outputs": [],
   "source": []
  }
 ],
 "metadata": {
  "kernelspec": {
   "display_name": "Python 3",
   "language": "python",
   "name": "python3"
  },
  "language_info": {
   "codemirror_mode": {
    "name": "ipython",
    "version": 3
   },
   "file_extension": ".py",
   "mimetype": "text/x-python",
   "name": "python",
   "nbconvert_exporter": "python",
   "pygments_lexer": "ipython3",
   "version": "3.8.8"
  }
 },
 "nbformat": 4,
 "nbformat_minor": 5
}
